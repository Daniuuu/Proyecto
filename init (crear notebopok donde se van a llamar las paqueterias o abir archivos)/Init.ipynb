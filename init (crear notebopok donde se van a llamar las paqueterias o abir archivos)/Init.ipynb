{
 "cells": [
  {
   "cell_type": "code",
   "execution_count": null,
   "metadata": {},
   "outputs": [],
   "source": [
    "import numpy as np\n",
    "import pandas as pd\n",
    "import math"
   ]
  }
 ],
 "metadata": {
  "interpreter": {
   "hash": "935b517d8e91db2549cbab3882550b7ff1af3eed2c97a5c1d77b015d4020cec6"
  },
  "kernelspec": {
   "display_name": "Python 3.8.8 64-bit",
   "language": "python",
   "name": "python3"
  },
  "language_info": {
   "name": "python",
   "version": "3.8.8"
  },
  "orig_nbformat": 4
 },
 "nbformat": 4,
 "nbformat_minor": 2
}
